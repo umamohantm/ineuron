{
 "cells": [
  {
   "cell_type": "markdown",
   "metadata": {},
   "source": [
    "Write a function so that the columns of the output matrix are powers of the input\n",
    "vector.\n",
    "The order of the powers is determined by the increasing boolean argument. Specifically, when\n",
    "increasing is False, the i-th output column is the input vector raised element-wise to the power\n",
    "of N - i - 1.\n",
    "HINT: Such a matrix with a geometric progression in each row is named for Alexandre-\n",
    "Theophile Vandermonde"
   ]
  },
  {
   "cell_type": "code",
   "execution_count": 1,
   "metadata": {},
   "outputs": [
    {
     "name": "stdout",
     "output_type": "stream",
     "text": [
      "INCREASING----\n",
      "[[ 1  1  1  1]\n",
      " [ 1  2  4  8]\n",
      " [ 1  3  9 27]\n",
      " [ 1  4 16 64]]\n",
      "\n",
      "\n",
      "DECREASING----\n",
      "[[ 1  1  1  1]\n",
      " [ 8  4  2  1]\n",
      " [27  9  3  1]\n",
      " [64 16  4  1]]\n"
     ]
    }
   ],
   "source": [
    "import numpy as np\n",
    "lst = [1,2,3,4]\n",
    "l = len(lst)\n",
    "n = 4\n",
    "lst1 = []\n",
    "lst2 = []\n",
    "\n",
    "def ALex_Theo_Vander(lst,N,increasing ):\n",
    "    if increasing ==1:\n",
    "        for j in lst:\n",
    "            lst1.append([j**(N-i-1) for i in range(N)])\n",
    "        return np.mat(lst1)\n",
    "    else:\n",
    "        for j in lst:\n",
    "            lst2.append([j**i for i in range(N)])\n",
    "        return np.mat(lst2)\n",
    "            \n",
    "print(\"INCREASING----\")\n",
    "print(ALex_Theo_Vander(lst,n,0).reshape(l,n))\n",
    "print(\"\\n\")\n",
    "print(\"DECREASING----\")\n",
    "print(ALex_Theo_Vander(lst,n,1).reshape(l,n))"
   ]
  },
  {
   "cell_type": "markdown",
   "metadata": {},
   "source": [
    " Problem Statement 2:\n",
    " Given a sequence of n values x1, x2, ..., xn and a window size k>0, the k-th moving average of\n",
    " the given sequence is defined as follows:\n",
    " The moving average sequence has n-k+1 elements as shown below.\n",
    " The moving averages with k=4 of a ten-value sequence (n=10) is shown below\n",
    " i 1 2 3 4 5 6 7 8 9 10\n",
    " ===== == == == == == == == == == ==\n",
    " Input 10 20 30 40 50 60 70 80 90 100\n",
    " y1 25 = (10+20+30+40)/4\n",
    " y2 35 = (20+30+40+50)/4\n",
    " y3 45 = (30+40+50+60)/4\n",
    " y4 55 = (40+50+60+70)/4\n",
    " y5 65 = (50+60+70+80)/4\n",
    " y6 75 = (60+70+80+90)/4\n",
    " y7 85 = (70+80+90+100)/4\n",
    " Thus, the moving average sequence has n-k+1=10-4+1=7 values\n",
    "\n",
    "\n",
    "\n",
    "* Question: Write a function to find moving average in an array over a window:\n",
    "Test it over [3, 5, 7, 2, 8, 10, 11, 65, 72, 81, 99, 100, 150] and window of 3."
   ]
  },
  {
   "cell_type": "code",
   "execution_count": 2,
   "metadata": {},
   "outputs": [
    {
     "name": "stdout",
     "output_type": "stream",
     "text": [
      "The length of original list :  13\n",
      "The moving average sequence elements count  :  11\n",
      " y1  = 5.0\n",
      " y2  = 4.666666666666667\n",
      " y3  = 5.666666666666667\n",
      " y4  = 6.666666666666667\n",
      " y5  = 9.666666666666666\n",
      " y6  = 28.666666666666668\n",
      " y7  = 49.333333333333336\n",
      " y8  = 72.66666666666667\n",
      " y9  = 84.0\n",
      " y10  = 93.33333333333333\n",
      " y11  = 116.33333333333333\n"
     ]
    }
   ],
   "source": [
    "inputs = [3, 5, 7, 2, 8, 10, 11, 65, 72, 81, 99, 100, 150]\n",
    "n =len(inputs)\n",
    "print(\"The length of original list : \" ,n)\n",
    "window = 3\n",
    "outputs = []\n",
    "mov_avg_seq = n -window +1\n",
    "print(\"The moving average sequence elements count  : \", mov_avg_seq)\n",
    "for i in range(mov_avg_seq):\n",
    "    outputs.append((inputs[i]+inputs[i+1]+inputs[i+2])/window)\n",
    "\n",
    "for i in range(len(outputs)):\n",
    "    print(f' y{i+1}  = {outputs[i]}')"
   ]
  },
  {
   "cell_type": "code",
   "execution_count": null,
   "metadata": {},
   "outputs": [],
   "source": []
  }
 ],
 "metadata": {
  "kernelspec": {
   "display_name": "Python 3",
   "language": "python",
   "name": "python3"
  },
  "language_info": {
   "codemirror_mode": {
    "name": "ipython",
    "version": 3
   },
   "file_extension": ".py",
   "mimetype": "text/x-python",
   "name": "python",
   "nbconvert_exporter": "python",
   "pygments_lexer": "ipython3",
   "version": "3.7.6"
  }
 },
 "nbformat": 4,
 "nbformat_minor": 4
}
